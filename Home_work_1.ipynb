{
 "cells": [
  {
   "cell_type": "markdown",
   "metadata": {},
   "source": [
    "### Question - 1: Write a Python program that checks if a number entered by the user is even or odd and prints the result."
   ]
  },
  {
   "cell_type": "code",
   "execution_count": 12,
   "metadata": {},
   "outputs": [],
   "source": [
    "def oddeven(a):\n",
    "    if a % 2 == 0:\n",
    "        print(\"even\")\n",
    "    else:\n",
    "        print(\"odd\")"
   ]
  },
  {
   "cell_type": "code",
   "execution_count": 14,
   "metadata": {},
   "outputs": [
    {
     "name": "stdout",
     "output_type": "stream",
     "text": [
      "13\n",
      "odd\n"
     ]
    }
   ],
   "source": [
    "a = int(input(\"Enter a Number: \"))\n",
    "print(a)\n",
    "\n",
    "\n",
    "def oddeven(a):\n",
    "    if a % 2 == 0:\n",
    "        print(\"even\")\n",
    "    else:\n",
    "        print(\"odd\")\n",
    "\n",
    "oddeven(a)"
   ]
  },
  {
   "cell_type": "markdown",
   "metadata": {},
   "source": [
    "### Question - 2: Write a Python program that prints the even numbers from 1 to 10 using a loop."
   ]
  },
  {
   "cell_type": "code",
   "execution_count": 7,
   "metadata": {},
   "outputs": [
    {
     "name": "stdout",
     "output_type": "stream",
     "text": [
      "2\n",
      "4\n",
      "6\n",
      "8\n"
     ]
    }
   ],
   "source": [
    "for a in range(1, 10):\n",
    "\n",
    "        if a % 2 == 0:\n",
    "            print(a)"
   ]
  },
  {
   "cell_type": "markdown",
   "metadata": {},
   "source": [
    "### Question -3: Write a Python program that takes three numbers as input from the user and prints the largest of the three."
   ]
  },
  {
   "cell_type": "code",
   "execution_count": 9,
   "metadata": {},
   "outputs": [
    {
     "name": "stdout",
     "output_type": "stream",
     "text": [
      "56\n"
     ]
    }
   ],
   "source": [
    "def largest_number(a1, a2, a3):\n",
    "    if a1 >= a2 and a1>= a3:\n",
    "        return a1\n",
    "    elif a2 >= a1 and a2 >= a3:\n",
    "        return a2\n",
    "    else:\n",
    "        return a3\n",
    "\n",
    "a1 = input(\"Enter first number: \")\n",
    "a2 = input(\"Enter the second number: \")\n",
    "a3 = input(\"Enter the third number: \")\n",
    "\n",
    "results = largest_number(a1, a2, a3)\n",
    "\n",
    "print(results)"
   ]
  },
  {
   "cell_type": "markdown",
   "metadata": {},
   "source": [
    "### Question - 4: Write a Python program that converts temperatures from Celsius to Fahrenheit using Function. The formula to convert Celsius to Fahrenheit is: F = C * 9/5 + 32."
   ]
  },
  {
   "cell_type": "code",
   "execution_count": 14,
   "metadata": {},
   "outputs": [
    {
     "name": "stdout",
     "output_type": "stream",
     "text": [
      "55.4\n"
     ]
    }
   ],
   "source": [
    "def cel_to_far(cel):\n",
    "    far = cel * 9/5 + 32\n",
    "    return far\n",
    "\n",
    "num = float(input(\"Enter your celcius value: \"))\n",
    "\n",
    "results = cel_to_far(num)\n",
    "\n",
    "print(results)\n"
   ]
  },
  {
   "cell_type": "markdown",
   "metadata": {},
   "source": [
    "### Question - 5: Basic Calculator: Write a Python program that takes two numbers and an operator (+, -, *, /) as input from the user and performs the corresponding operation."
   ]
  },
  {
   "cell_type": "code",
   "execution_count": 18,
   "metadata": {},
   "outputs": [
    {
     "name": "stdout",
     "output_type": "stream",
     "text": [
      "252.0\n"
     ]
    }
   ],
   "source": [
    "def calculator(b1, b2, sign):\n",
    "    if sign == '+':\n",
    "        return b1 + b2\n",
    "    elif sign == '-':\n",
    "        return b1 - b2\n",
    "    elif sign == '*':\n",
    "        return b1 * b2\n",
    "    elif sign == '/':\n",
    "        if b2 != 0:\n",
    "            return b1 / b2\n",
    "        else:\n",
    "            return \"Error: Division by zero is not allowed.\"\n",
    "    else:\n",
    "        return \"Error: Invalid operator.\"\n",
    "\n",
    "b1 = float(input(\"Enter first Number: \"))\n",
    "b2 = float(input(\"Enter second Number: \"))\n",
    "sign = input(\"Enter an Operator(+, -, *, /): \")\n",
    "\n",
    "\n",
    "result = calculator(b1, b2, sign)\n",
    "\n",
    "# Printing the result\n",
    "print(result)"
   ]
  }
 ],
 "metadata": {
  "kernelspec": {
   "display_name": "Python 3",
   "language": "python",
   "name": "python3"
  },
  "language_info": {
   "codemirror_mode": {
    "name": "ipython",
    "version": 3
   },
   "file_extension": ".py",
   "mimetype": "text/x-python",
   "name": "python",
   "nbconvert_exporter": "python",
   "pygments_lexer": "ipython3",
   "version": "3.12.2"
  }
 },
 "nbformat": 4,
 "nbformat_minor": 2
}
